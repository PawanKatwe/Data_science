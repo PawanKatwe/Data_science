{
 "cells": [
  {
   "cell_type": "markdown",
   "metadata": {},
   "source": [
    "## set 2, Q1"
   ]
  },
  {
   "cell_type": "code",
   "execution_count": 2,
   "metadata": {},
   "outputs": [],
   "source": [
    "from scipy import stats as stats"
   ]
  },
  {
   "cell_type": "code",
   "execution_count": 3,
   "metadata": {},
   "outputs": [],
   "source": [
    "#As the manager start after 10 min of drop off so he has only 50 min to complete his work."
   ]
  },
  {
   "cell_type": "code",
   "execution_count": 4,
   "metadata": {},
   "outputs": [
    {
     "data": {
      "text/plain": [
       "0.26598552904870054"
      ]
     },
     "execution_count": 4,
     "metadata": {},
     "output_type": "execute_result"
    }
   ],
   "source": [
    "#probablity of it will take more than 50 for servicing:\n",
    "1-(stats.norm.cdf(50,45,8))"
   ]
  },
  {
   "cell_type": "markdown",
   "metadata": {},
   "source": [
    "## Set 2 Q2\n",
    "The current age (in years) of 400 clerical employees at an insurance claims processing center is normally distributed with mean  = 38 and Standard deviation  =6. For each statement below, please specify True/False. If false, briefly explain why.\n",
    "\n",
    "A.\tMore employees at the processing center are older than 44 than between 38 and 44./n\n",
    "\n",
    "B.\tA training program for employees under the age of 30 at the center would be expected to attract about 36 employees.\n"
   ]
  },
  {
   "cell_type": "code",
   "execution_count": 5,
   "metadata": {},
   "outputs": [
    {
     "data": {
      "text/plain": [
       "0.15865525393145707"
      ]
     },
     "execution_count": 5,
     "metadata": {},
     "output_type": "execute_result"
    }
   ],
   "source": [
    "#Probability of older than 44:\n",
    "1-(stats.norm.cdf(44,38,6))"
   ]
  },
  {
   "cell_type": "code",
   "execution_count": 6,
   "metadata": {},
   "outputs": [
    {
     "data": {
      "text/plain": [
       "0.3413447460685429"
      ]
     },
     "execution_count": 6,
     "metadata": {},
     "output_type": "execute_result"
    }
   ],
   "source": [
    "#probability of age bitween 38 and 44:\n",
    "stats.norm.cdf(44,38,6)-stats.norm.cdf(38,38,6)"
   ]
  },
  {
   "cell_type": "code",
   "execution_count": 7,
   "metadata": {},
   "outputs": [
    {
     "data": {
      "text/plain": [
       "36.0"
      ]
     },
     "execution_count": 7,
     "metadata": {},
     "output_type": "execute_result"
    }
   ],
   "source": [
    "#No. of employee whose age is less than 30:\n",
    "round(400*(stats.norm.cdf(30,38,6)))"
   ]
  },
  {
   "cell_type": "markdown",
   "metadata": {},
   "source": [
    "## Set 2 Q3\n",
    "\n",
    "###  If X1 ~ N(μ, σ2) and X2 ~ N(μ, σ2) are iid normal random variables, then what is the difference between 2 X1 and X1 + X2? Discuss both their distributions and parameters.   "
   ]
  },
  {
   "cell_type": "markdown",
   "metadata": {},
   "source": [
    "### Answer:\n",
    "#### X1 and X2 are random veriable in normal distribution so they are two diffrent value\n",
    "####  as all value are diffrent X1 and X2 are diffrent hence the result of 2X1 and X1+X2 will be diffrent "
   ]
  },
  {
   "cell_type": "markdown",
   "metadata": {},
   "source": [
    "## Set 2 Q4\n",
    "### Let X ~ N(100, 202). Find two values, a and b, symmetric about the mean, such that the probability of the random variable taking a value between them is 0.99. "
   ]
  },
  {
   "cell_type": "code",
   "execution_count": 8,
   "metadata": {},
   "outputs": [],
   "source": [
    "import scipy.stats as stats"
   ]
  },
  {
   "cell_type": "code",
   "execution_count": 9,
   "metadata": {},
   "outputs": [
    {
     "name": "stdout",
     "output_type": "stream",
     "text": [
      "2.5758293035489004\n"
     ]
    }
   ],
   "source": [
    "#calulating z score of x2\n",
    "z2=stats.norm.ppf(0.995)\n",
    "print(z2)"
   ]
  },
  {
   "cell_type": "code",
   "execution_count": 10,
   "metadata": {},
   "outputs": [],
   "source": [
    "sd=20\n",
    "mean=100"
   ]
  },
  {
   "cell_type": "code",
   "execution_count": 11,
   "metadata": {},
   "outputs": [
    {
     "name": "stdout",
     "output_type": "stream",
     "text": [
      "151.516586070978\n"
     ]
    }
   ],
   "source": [
    "#calculating the x2 using z score formula\n",
    "x2=(z2*sd)+mean\n",
    "print(x2)"
   ]
  },
  {
   "cell_type": "code",
   "execution_count": 12,
   "metadata": {},
   "outputs": [
    {
     "data": {
      "text/plain": [
       "0.995"
      ]
     },
     "execution_count": 12,
     "metadata": {},
     "output_type": "execute_result"
    }
   ],
   "source": [
    "#cross checking the probability\n",
    "stats.norm.cdf(x2,100,20)"
   ]
  },
  {
   "cell_type": "code",
   "execution_count": 13,
   "metadata": {},
   "outputs": [
    {
     "name": "stdout",
     "output_type": "stream",
     "text": [
      "-2.575829303548901\n"
     ]
    }
   ],
   "source": [
    "#calulating z score of x1\n",
    "z1=stats.norm.ppf(0.005)\n",
    "print(z1)"
   ]
  },
  {
   "cell_type": "code",
   "execution_count": 14,
   "metadata": {},
   "outputs": [
    {
     "name": "stdout",
     "output_type": "stream",
     "text": [
      "48.483413929021985\n"
     ]
    }
   ],
   "source": [
    "#calculating the x2 using z score formula\n",
    "x1=(z1*sd)+mean\n",
    "print(x1)"
   ]
  },
  {
   "cell_type": "code",
   "execution_count": 15,
   "metadata": {},
   "outputs": [
    {
     "data": {
      "text/plain": [
       "0.99"
      ]
     },
     "execution_count": 15,
     "metadata": {},
     "output_type": "execute_result"
    }
   ],
   "source": [
    "#calulation of proability between x1 and x2\n",
    "stats.norm.cdf(x2,mean,sd)-stats.norm.cdf(x1,mean,sd)"
   ]
  },
  {
   "cell_type": "markdown",
   "metadata": {},
   "source": [
    "### Final answer opiton D. 48.5, 151.5 "
   ]
  },
  {
   "cell_type": "markdown",
   "metadata": {},
   "source": [
    "## Set 2 Q5\n",
    "### Consider a company that has two different divisions. The annual profits from the two divisions are independent and have distributions Profit1 ~ N(5, 32) and Profit2 ~ N(7, 42) respectively. Both the profits are in dollor Million. Answer the following questions about the total profit of the company in Rupees. Assume that $1 = Rs. 45\n"
   ]
  },
  {
   "cell_type": "markdown",
   "metadata": {},
   "source": [
    "A.\tSpecify a Rupee range (centered on the mean) such that it contains 95% probability for the     annual profit of the company.\n",
    "\n",
    "B.\tSpecify the 5th percentile of profit (in Rupees) for the company\n",
    "\n",
    "C.\tWhich of the two divisions has a\n",
    "larger probability of making a loss in a given year?"
   ]
  },
  {
   "cell_type": "code",
   "execution_count": 16,
   "metadata": {},
   "outputs": [],
   "source": [
    "#CONVERSION IN RUPEES\n",
    "# profit1~N(225,1440)\n",
    "# profit1~N(315,1890)"
   ]
  },
  {
   "cell_type": "code",
   "execution_count": 17,
   "metadata": {},
   "outputs": [
    {
     "data": {
      "text/plain": [
       "'\\np1_mean=5\\np1_sd=32\\np2_mean=7\\np2_sd=42\\n\\n'"
      ]
     },
     "execution_count": 17,
     "metadata": {},
     "output_type": "execute_result"
    }
   ],
   "source": [
    "\n",
    "p1_mean=225\n",
    "p1_sd=1440\n",
    "p2_mean=315\n",
    "p2_sd=1890\n",
    "'''\n",
    "p1_mean=5\n",
    "p1_sd=32\n",
    "p2_mean=7\n",
    "p2_sd=42\n",
    "\n",
    "'''"
   ]
  },
  {
   "cell_type": "markdown",
   "metadata": {},
   "source": [
    "#### For company 1 Rupee range (centered on the mean) such that it contains 95% probability for the annual profit of the company."
   ]
  },
  {
   "cell_type": "code",
   "execution_count": 18,
   "metadata": {},
   "outputs": [],
   "source": [
    "#z score for 95% confidence interval\n",
    "c1_z1 = stats.norm.ppf(0.975)\n",
    "c1_z2= stats.norm.ppf(0.025)"
   ]
  },
  {
   "cell_type": "code",
   "execution_count": 19,
   "metadata": {},
   "outputs": [
    {
     "name": "stdout",
     "output_type": "stream",
     "text": [
      "Rupee range that contain 95% of profit is  3047.0 to -2597.0\n"
     ]
    }
   ],
   "source": [
    "#calulating rupee range for compnay 1\n",
    "c1_higher_value=round((c1_z2*p1_sd)+p1_mean)\n",
    "c1_lower_value=round((c1_z1*p1_sd)+p1_mean)\n",
    "print('Rupee range that contain 95% of profit is ', c1_lower_value,  'to', c1_higher_value)\n"
   ]
  },
  {
   "cell_type": "code",
   "execution_count": 20,
   "metadata": {},
   "outputs": [
    {
     "data": {
      "text/plain": [
       "-0.9499717336727853"
      ]
     },
     "execution_count": 20,
     "metadata": {},
     "output_type": "execute_result"
    }
   ],
   "source": [
    "#cross checking result \n",
    "stats.norm.cdf(c1_higher_value,p1_mean,p1_sd)-stats.norm.cdf(c1_lower_value,p1_mean,p1_sd)"
   ]
  },
  {
   "cell_type": "markdown",
   "metadata": {},
   "source": [
    "#### For company 2 Rupee range (centered on the mean) such that it contains 95% probability for the annual profit of the company."
   ]
  },
  {
   "cell_type": "code",
   "execution_count": 21,
   "metadata": {},
   "outputs": [],
   "source": [
    "#z score for 95% confidence interval\n",
    "c2_z2 = stats.norm.ppf(0.975)\n",
    "c2_z1 = stats.norm.ppf(0.025)"
   ]
  },
  {
   "cell_type": "code",
   "execution_count": 22,
   "metadata": {},
   "outputs": [
    {
     "name": "stdout",
     "output_type": "stream",
     "text": [
      "Rupee range that contain 95% of profit is  -3389.0 to 4019.0\n"
     ]
    }
   ],
   "source": [
    "#calulating rupee range for compnay 2\n",
    "c2_higher_value=round((c2_z2*p2_sd)+p2_mean)\n",
    "c2_lower_value=round((c2_z1*p2_sd)+p2_mean)\n",
    "print('Rupee range that contain 95% of profit is ', c2_lower_value,  'to', c2_higher_value)\n"
   ]
  },
  {
   "cell_type": "code",
   "execution_count": 23,
   "metadata": {},
   "outputs": [
    {
     "data": {
      "text/plain": [
       "0.9499794676647622"
      ]
     },
     "execution_count": 23,
     "metadata": {},
     "output_type": "execute_result"
    }
   ],
   "source": [
    "#cross checking result \n",
    "stats.norm.cdf(c2_higher_value,p2_mean,p2_sd)-stats.norm.cdf(c2_lower_value,p2_mean,p2_sd)"
   ]
  },
  {
   "cell_type": "markdown",
   "metadata": {},
   "source": [
    "#### 5th percentile of profit (in Rupees) for the company"
   ]
  },
  {
   "cell_type": "code",
   "execution_count": 24,
   "metadata": {},
   "outputs": [
    {
     "name": "stdout",
     "output_type": "stream",
     "text": [
      "22.5\n"
     ]
    }
   ],
   "source": [
    "#5th percentile of comapnay 1\n",
    "#50th pecentile is mean = 225\n",
    "c1_5th_percentile=p1_mean*0.1\n",
    "print(c1_5th_percentile)"
   ]
  },
  {
   "cell_type": "code",
   "execution_count": 25,
   "metadata": {},
   "outputs": [
    {
     "name": "stdout",
     "output_type": "stream",
     "text": [
      "31.5\n"
     ]
    }
   ],
   "source": [
    "#5th percentile of comapnay 2\n",
    "#50th pecentile is mean = 315\n",
    "c2_5th_percentile=p2_mean*0.1\n",
    "print(c2_5th_percentile)"
   ]
  },
  {
   "cell_type": "markdown",
   "metadata": {},
   "source": [
    "### Set 3 Q 1"
   ]
  },
  {
   "cell_type": "markdown",
   "metadata": {},
   "source": [
    "For each of the following statements, indicate whether it is True/False. If false, explain why.\n",
    "\n",
    "    I.\tThe sample size of the survey should at least be a fixed percentage of the population size in order to produce representative results.\n",
    "        Ans: True\n",
    "        \n",
    "    II.\tThe sampling frame is a list of every item that appears in a survey sample, including those that did not respond to questions.\n",
    "        Ans: False-The sampling frame refers to a list of an item which responds to the question and not the ones which donot respond to the questions. \n",
    "\n",
    "    III.\tLarger surveys convey a more accurate impression of the population than smaller surveys.\n",
    "        Ans: True"
   ]
  },
  {
   "cell_type": "markdown",
   "metadata": {},
   "source": [
    "## Set 3  Q 2"
   ]
  },
  {
   "cell_type": "markdown",
   "metadata": {},
   "source": [
    "PC Magazine asked all of its readers to participate in a survey of their satisfaction with different brands of electronics. In the 2004 survey, which was included in an issue of the magazine that year, more than 9000 readers rated the products on a scale from 1 to 10. The magazine reported that the average rating assigned by 225 readers to a Kodak compact digital camera was 7.5. For this product, identify the following:\n",
    "\n",
    "A.\tThe population  :  All readers\n",
    "\n",
    "B.\tThe parameter of interest  : Rating scale on 1-10\n",
    "\n",
    "C.\tThe sampling frame  :  Readers who read PC magzine\n",
    "\n",
    "D.\tThe sample size : 225\n",
    "\n",
    "E.\tThe sampling design : Survey of PC magzine\n",
    "\n",
    "F.\tAny potential sources of bias or other problems with the survey or sample:\n",
    "        We don't know if from all users of camera masure users were reading the magzine or not.\n",
    "        We don't know if from all readers who use camera have rated it or not.\n",
    "        \n"
   ]
  },
  {
   "cell_type": "markdown",
   "metadata": {},
   "source": []
  },
  {
   "cell_type": "markdown",
   "metadata": {},
   "source": [
    "### Set 3 Q 3"
   ]
  },
  {
   "cell_type": "markdown",
   "metadata": {},
   "source": [
    "For each of the following statements, indicate whether it is True/False. If false, explain why.\n",
    "\n",
    "I.\tIf the 95% confidence interval for the average purchase of customers at a department store is $50 to $110, then $100 is a plausible value for the population mean at this level of confidence.\n",
    "\n",
    "        Ans: False. 100 is closer to higer value 110 so it is not plausible to say 100 is mean value\n",
    "\n",
    "II.\tIf the 95% confidence interval for the number of moviegoers who purchase concessions is 30% to 45%, this means that fewer than half of all moviegoers purchase concessions.\n",
    "        \n",
    "        Ans: True\n",
    "\n",
    "III.\tThe 95% Confidence-Interval for μ only applies if the sample data are nearly normally distributed.\n",
    "        Ans: False this rule can still be applicatble for highly skewed data or data which is not normally distributed\n"
   ]
  },
  {
   "cell_type": "markdown",
   "metadata": {},
   "source": [
    "### Set 3 Q 4"
   ]
  },
  {
   "cell_type": "markdown",
   "metadata": {},
   "source": [
    "What are the chances that  ?\n",
    "\n",
    "#### Ans: D)  1\n"
   ]
  },
  {
   "cell_type": "markdown",
   "metadata": {},
   "source": [
    "### Set 3 Q 5"
   ]
  },
  {
   "cell_type": "markdown",
   "metadata": {},
   "source": [
    "In January 2005, a company that monitors Internet traffic (WebSideStory) reported that its sampling revealed that the Mozilla Firefox browser launched in 2004 had grabbed a 4.6% share of the market.\n",
    "\n",
    "I.\tIf the sample were based on 2,000 users, could Microsoft conclude that Mozilla has a less than 5% share of the market?\n",
    "        Ans:\n",
    "        \n",
    "        \n",
    "II.\tWebSideStory claims that its sample includes all the daily Internet users. If that’s the case, then can Microsoft conclude that Mozilla has a less than 5% share of the market?\n",
    "        Ans: Yes\n"
   ]
  },
  {
   "cell_type": "markdown",
   "metadata": {},
   "source": [
    "##### s3q5-1"
   ]
  },
  {
   "cell_type": "markdown",
   "metadata": {},
   "source": [
    "### Set 3 Q 6"
   ]
  },
  {
   "cell_type": "markdown",
   "metadata": {},
   "source": [
    "A book publisher monitors the size of shipments of its textbooks to university bookstores. For a sample of texts used at various schools, the 95% confidence interval for the size of the shipment was 250 ± 45 books. Which, if any, of the following interpretations of this interval are correct?\n",
    "\n",
    "A.\tAll shipments are between 205 and 295 books.\n",
    "\n",
    "####       Ans: NO. 95% of shippment are between 205 to 295 books\n",
    "\n",
    "B.\t95% of shipments are between 205 and 295 books.\n",
    "\n",
    "####        Ans: Ture\n",
    "\n",
    "C.\tThe procedure that produced this interval generates ranges that hold the population mean for 95% of samples.\n",
    "\n",
    "####       Ans: True\n",
    "\n",
    "D.\tIf we get another sample, then we can be 95% sure that the mean of this second sample is between 205 and 295.\n",
    "\n",
    "#### Ans: Yes \n",
    "\n",
    "E.\tWe can be 95% confident that the range 160 to 340 holds the population mean.\n",
    " \n",
    " #### Ans: Yes\n"
   ]
  },
  {
   "cell_type": "markdown",
   "metadata": {},
   "source": [
    "### Set 3 Q 7"
   ]
  },
  {
   "cell_type": "markdown",
   "metadata": {},
   "source": [
    "Which is shorter: a 95% z-interval or a 95% t-interval for μ if we know that σ =s?\n",
    "\n",
    "A.\tThe z-interval is shorter\n",
    "\n",
    "B.\tThe t-interval is shorter\n",
    "\n",
    "C.\tBoth are equal\n",
    "\n",
    "D.\tWe cannot say\n",
    "\n",
    "#### c) both are equal\n"
   ]
  },
  {
   "cell_type": "markdown",
   "metadata": {},
   "source": [
    "##### Questions 8 and 9 are based on the following: To prepare a report on the economy, analysts need to estimate the percentage of businesses that plan to hire additional employees in the next 60 days.\n",
    "\n"
   ]
  },
  {
   "cell_type": "markdown",
   "metadata": {},
   "source": [
    "### Set 3 Q 8"
   ]
  },
  {
   "cell_type": "markdown",
   "metadata": {},
   "source": [
    "How many randomly selected employers (minimum number) must we contact in order to guarantee a margin of error of no more than 4% (at 95% confidence)?\n",
    "\n",
    "A.\t600\n",
    "\n",
    "B.\t400\n",
    "\n",
    "C.\t550\n",
    "\n",
    "D.\t1000\n"
   ]
  },
  {
   "cell_type": "code",
   "execution_count": 26,
   "metadata": {},
   "outputs": [],
   "source": [
    "#### margin of error=z*(sqrt(p^(1-p^)/n)))"
   ]
  },
  {
   "cell_type": "code",
   "execution_count": 27,
   "metadata": {},
   "outputs": [],
   "source": [
    "#conversion \n",
    "#N=[(Z/MOE)^2]*P(1-P)"
   ]
  },
  {
   "cell_type": "code",
   "execution_count": 28,
   "metadata": {},
   "outputs": [
    {
     "data": {
      "text/plain": [
       "594.140625"
      ]
     },
     "execution_count": 28,
     "metadata": {},
     "output_type": "execute_result"
    }
   ],
   "source": [
    "#N is =\n",
    "((1.95/0.04)**2)*(.5*(1-0.5))"
   ]
  },
  {
   "cell_type": "markdown",
   "metadata": {},
   "source": [
    "#### Ans. a) 600"
   ]
  },
  {
   "cell_type": "markdown",
   "metadata": {},
   "source": [
    "### Set 3 Q 9"
   ]
  },
  {
   "cell_type": "markdown",
   "metadata": {},
   "source": [
    "Suppose we want the above margin of error to be based on a 98% confidence level. What sample size (minimum) must we now use?\n",
    "\n",
    "A.\t1000\n",
    "\n",
    "B.\t757\n",
    "\n",
    "C.\t848\n",
    "\n",
    "D.\t543\n"
   ]
  },
  {
   "cell_type": "code",
   "execution_count": 29,
   "metadata": {},
   "outputs": [
    {
     "data": {
      "text/plain": [
       "848.265625"
      ]
     },
     "execution_count": 29,
     "metadata": {},
     "output_type": "execute_result"
    }
   ],
   "source": [
    "#N is =\n",
    "((2.33/0.04)**2)*(.5*(1-0.5))"
   ]
  },
  {
   "cell_type": "markdown",
   "metadata": {},
   "source": [
    "#### Ans. c) 848"
   ]
  },
  {
   "cell_type": "code",
   "execution_count": 30,
   "metadata": {},
   "outputs": [],
   "source": [
    "#------------------------------"
   ]
  },
  {
   "cell_type": "code",
   "execution_count": null,
   "metadata": {},
   "outputs": [],
   "source": []
  }
 ],
 "metadata": {
  "kernelspec": {
   "display_name": "Python 3",
   "language": "python",
   "name": "python3"
  },
  "language_info": {
   "codemirror_mode": {
    "name": "ipython",
    "version": 3
   },
   "file_extension": ".py",
   "mimetype": "text/x-python",
   "name": "python",
   "nbconvert_exporter": "python",
   "pygments_lexer": "ipython3",
   "version": "3.8.3"
  }
 },
 "nbformat": 4,
 "nbformat_minor": 4
}
